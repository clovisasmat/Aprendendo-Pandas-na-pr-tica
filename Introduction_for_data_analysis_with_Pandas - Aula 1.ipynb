{
 "cells": [
  {
   "cell_type": "markdown",
   "metadata": {},
   "source": [
    "# Introdução prática à ciência de dados utilizando o Pandas"
   ]
  },
  {
   "cell_type": "markdown",
   "metadata": {},
   "source": [
    "## Aula 1 - Fundamentos de análise de dados"
   ]
  },
  {
   "cell_type": "markdown",
   "metadata": {},
   "source": [
    "Podemos dizer que Análise de Dados é um processo iterativo envolvendo coleta (collection), preparação (wrangling), análise exploratória dos dados (EDA), e podemos dizer tirar conclusões. A seguir temos um diagrama representando esse processo."
   ]
  },
  {
   "cell_type": "markdown",
   "metadata": {},
   "source": [
    "### **Data collection** "
   ]
  },
  {
   "cell_type": "markdown",
   "metadata": {},
   "source": [
    "A coleta de dados é o primeiro passo natural para qualquer análise de dados. Na verdade, a análise começa antes mesmo de termos os dados: quando decidimos o que queremos investigar ou analisar, temos que pensar em que tipo de dados podemos coletar que serão úteis para nossa análise."
   ]
  },
  {
   "cell_type": "markdown",
   "metadata": {},
   "source": [
    "Alguns exemplos de fontes de dados:\n",
    "* Web scraping de um site Html - podemos usar pacotes do Python, tais como: selenium, requests, scrapy e beautifulsoup;\n",
    "* APIs para serviços web a partir dos quais podemos coletar dados com o pacote requests;\n",
    "* Bancos de dados - os dados são extraídos com SQL, por exemplo;\n",
    "* Recursos da Internet que fornecem dados para download, como sites governamentais;\n",
    "* Log files."
   ]
  },
  {
   "cell_type": "markdown",
   "metadata": {},
   "source": [
    "Obs.:\n",
    "1. E o capítulo The Road Ahead fornece inúmeros recursos para encotrarmos fontes de dados.\n",
    "2. O capítulo Working with Pandas DataFrames nos dará habilidades que precisamos para trabalhar com as fontes de dados mencionadas.\n",
    "3. Estamos rodeados de dados. Sendo assim, é importante ter certeza de que estamos coletando dados que nos ajudarão a tirar conclusões."
   ]
  },
  {
   "cell_type": "markdown",
   "metadata": {},
   "source": [
    "**Atenção!** \n",
    "Não se preocupe muito em encontrar os dados perfeitos antes de iniciar uma análise. É mais provável que sempre haverá algo que desejamos adicionar / remover do conjunto de dados (dataset) inicial, reformatar, mesclar (merge) com outros dados ou alterar de alguma forma."
   ]
  },
  {
   "cell_type": "markdown",
   "metadata": {},
   "source": [
    "### **Data wrangling**  "
   ]
  },
  {
   "cell_type": "markdown",
   "metadata": {},
   "source": [
    "**Data wrangling** é o processo de preparar os dados e colocá-los em um formato que possa ser usado para análise."
   ]
  },
  {
   "cell_type": "markdown",
   "metadata": {},
   "source": [
    "A triste realidade dos dados é que muitas vezes estão sujos, ou seja, precisam de limpeza (preparação) antes de serem usados."
   ]
  },
  {
   "cell_type": "markdown",
   "metadata": {},
   "source": [
    "A seguir estão alguns problemas que podemos encontrar com nossos dados:(Algumas fontes de erros dos dados:)\n",
    "* Erros humanos: os dados são registrados (ou mesmo coletados) incorretamente, como por exemplo colocar 100 em vez de 1000 ou erros de digitação.\n",
    "* Erro do computador: talvez não estivéssemos gravando entradas por um tempo (dados ausentes).\n",
    "* Valores inesperados: pode ser que quem estava registrando os dados decidiu usar ? para um valor ausente em uma coluna numérica, então agora todas as entradas na coluna serão tratadas como texto em vez de valores numéricos.\n",
    "* Informações incompletas: pense em uma pesquisa com perguntas optativas; nem todos irão respondê-las, assim, faltarão dados, mas não devido a erro do computador ou humano.\n",
    "* Resolução: os dados podem ter sido coletados por segundo, mas precisamos de dados por hora para nossa análise.\n",
    "* Relevância dos campos: Frequentemente, os dados são coletados ou gerados como resultado de algum processo, e não explicitamente para nossa análise. Assim, para deixá-lo em um estado utilizável, teremos que limpá-lo\n",
    "* Formato dos dados: os dados podem ter ser registrados em um formato que não conduz à análise, o que exigirá que seja reformatado\n",
    "* Configurações incorretas no processo de gravação dos dados: dados provenientes de fontes, como rastreadores e / ou webhooks configurados incorretamente, podem ter campos ausentes ou passados na ordem errada\n",
    "\n",
    "\n"
   ]
  },
  {
   "cell_type": "markdown",
   "metadata": {},
   "source": [
    "obs.: A maioria desses problemas de qualidade de dados pode ser remediada, mas alguns não, como quando os dados são coletados diariamente e precisamos deles em uma resolução de hora em hora."
   ]
  },
  {
   "cell_type": "markdown",
   "metadata": {},
   "source": [
    "**Atenção!** É muito importante examinar cuidadosamente os dados e lidar com quaisquer problemas, para que a análise não seja distorcida."
   ]
  },
  {
   "cell_type": "markdown",
   "metadata": {},
   "source": [
    "Obs.:\n",
    "Esse processo será abordado no capítulo Data Wrangling with Pandas e no capítulo Aggregating Pandas DataFrames.\n"
   ]
  },
  {
   "cell_type": "markdown",
   "metadata": {},
   "source": [
    "### **Exploratory data analysis - EDA** "
   ]
  },
  {
   "cell_type": "markdown",
   "metadata": {},
   "source": [
    "Durante o EDA, utilizamos visualizações e estatísticas resumidas para obtermos um melhor entendimento dos dados. Uma vez que o cérebro humano se destaca na escolha de padrões visuais, a visualização de dados é essencial para qualquer análise. Na verdade, algumas características dos dados só podem ser observadas em um gráfico. Dependendo dos dados, podemos criar gráficos para ver como uma variável de interesse evoluiu ao longo do tempo, comparar quantas observações pertencem a cada categoria, descobrir outliers, olhar para distribuições de variáveis contínuas e discretas e muito mais.\n"
   ]
  },
  {
   "cell_type": "markdown",
   "metadata": {},
   "source": [
    "Obs.: No capítulo Visualizing Data with Pandas and Matplotlib e no capítulo Plotting with Seaborn and Customization Techniques, aprenderemos como criar esses gráficos para EDA e apresentação. "
   ]
  },
  {
   "cell_type": "markdown",
   "metadata": {},
   "source": [
    "No diagrama visto anteriormente, a EDA e o data wrangling estão no mesmo box. Isso ocorre porque estão intimamente ligados:\n",
    "* Os dados precisam ser preparados antes da EDA.\n",
    "* As visualizações criadas durante o EDA podem indicar a necessidade de limpeza adicional de dados.\n",
    "* Data wrangling usa estatísticas resumidas para procurar problemas potenciais de dados, enquanto a EDA aos usa para entender os dados. A limpeza inadequada distorcerá as descobertas quando estivermos conduzindo a EDA. Além disso, as habilidades de data wrangling serão necessárias para obter estatísticas resumidas em subconjuntos de dados.\n"
   ]
  },
  {
   "cell_type": "markdown",
   "metadata": {},
   "source": [
    "Ao calcularmos as estatísticas, devemos ter em mente o tipo de dados que coletamos. Os dados podem ser quantitativos (quantidades mensuráveis - unidade de medida associada) ou categóricos (descrições, agrupamentos ou categorias). Dentro dessas classes de dados, temos subdivisões adicionais que nos permitem saber quais tipos de operações podemos realizar nelas."
   ]
  },
  {
   "cell_type": "markdown",
   "metadata": {},
   "source": [
    "Por exemplo, os dados categóricos podem ser nominais, onde atribuímos um valor numérico a cada nível da categoria, como on = 1 / off = 0, mas não podemos dizer que um é maior do que o outro porque isso não faz sentido. O fato de on ser maior do que off não tem significado porque escolhemos arbitrariamente esses números para representar os estados on e off. Neste caso, podemos representar os dados com um Booleano (valor True / False): is_on. Os dados categóricos também podem ser ordinais, o que significa que podemos classificar os níveis (por exemplo, podemos ter baixo < médio < alto)."
   ]
  },
  {
   "cell_type": "markdown",
   "metadata": {},
   "source": [
    "Com dados quantitativos, podemos estar em uma escala intervalar ou racional. A escala intervalar inclui coisas como temperatura. Podemos medir temperaturas em Celsius e comparar as temperaturas de duas cidades, mas não significa nada dizer que uma cidade é duas vezes mais quente que a outra. Portanto, os valores da escala intervalar podem ser comparados de forma significativa usando adição / subtração, mas não multiplicação / divisão. A escala racional, então, são os valores que podem ser comparados de forma significativa usando multiplicação e divisão. Exemplos da escala racional incluem preços, tamanhos e contagens."
   ]
  },
  {
   "cell_type": "markdown",
   "metadata": {},
   "source": [
    "### **Tirando conclusões**"
   ]
  },
  {
   "cell_type": "markdown",
   "metadata": {},
   "source": [
    "Depois de coletar os dados para nossa análise, limpá-los e realizar uma EDA completa, é hora de tirar conclusões."
   ]
  },
  {
   "cell_type": "markdown",
   "metadata": {},
   "source": [
    "É aqui que resumimos nossas descobertas da EDA e decidimos as próximas etapas:\n",
    "* Notamos algum padrão ou relações ao visualizar os dados?\n",
    "* Parece que podemos fazer predições acuradas a partir de nossos dados? Faz sentido passar para a modelagem dos dados?\n",
    "* Precisamos coletar novos pontos de dados?\n",
    "* Como os dados são distribuídos?\n",
    "* Os dados nos ajudam a responder às perguntas que temos ou nos dão um insight sobre o problema que estamos investigando?\n",
    "* Precisamos coletar dados novos ou adicionais?"
   ]
  },
  {
   "cell_type": "markdown",
   "metadata": {},
   "source": [
    "Se avançarmos para a modelagem os dados, isso se enquadrará em machine learning e nas estatísticas. Embora não seja tecnicamente uma análise de dados, geralmente é a etapa posterior, vamos abordar no capítulo Getting Started with Machine Learning in Python e no capítulo Making Better Predictions – Optimizing Models. Além disso, veremos como todo esse processo funcionará na prática no capítulo Machine Learning Anomaly Detection. "
   ]
  },
  {
   "cell_type": "markdown",
   "metadata": {},
   "source": [
    "O diagrama a seguir descreve todo o processo, desde a análise de dados até o aprendizado de máquina. (Seção Machine learning workflow do apêndice)."
   ]
  },
  {
   "cell_type": "markdown",
   "metadata": {},
   "source": [
    "O capítulo Financial Analysis – Bitcoin and the Stock Market, e o capítulo Rule-Based Anomaly Detection focarão em tirar conclusões de análises de dados, em vez de construir modelos."
   ]
  },
  {
   "cell_type": "markdown",
   "metadata": {},
   "source": [
    "> Dataframe Pandas"
   ]
  },
  {
   "cell_type": "markdown",
   "metadata": {},
   "source": [
    "Series"
   ]
  },
  {
   "cell_type": "markdown",
   "metadata": {},
   "source": [
    "Index"
   ]
  },
  {
   "cell_type": "markdown",
   "metadata": {},
   "source": [
    "DataFrame"
   ]
  },
  {
   "cell_type": "markdown",
   "metadata": {},
   "source": [
    "Trazendo os dados para um dataframe pandas"
   ]
  },
  {
   "cell_type": "markdown",
   "metadata": {},
   "source": [
    "Inspecionando um dataframe"
   ]
  },
  {
   "cell_type": "markdown",
   "metadata": {},
   "source": [
    "Pegando subconjuntos dos dados"
   ]
  },
  {
   "cell_type": "markdown",
   "metadata": {},
   "source": [
    "Adicionando e removendo dados"
   ]
  },
  {
   "cell_type": "markdown",
   "metadata": {},
   "source": [
    "> Data wrangling com Pandas"
   ]
  },
  {
   "cell_type": "markdown",
   "metadata": {},
   "source": [
    "Data cleaning"
   ]
  },
  {
   "cell_type": "markdown",
   "metadata": {},
   "source": [
    "Data transformation"
   ]
  },
  {
   "cell_type": "markdown",
   "metadata": {},
   "source": [
    "Data enrichment"
   ]
  },
  {
   "cell_type": "markdown",
   "metadata": {},
   "source": [
    "> Agregando dataframes pandas"
   ]
  },
  {
   "cell_type": "markdown",
   "metadata": {},
   "source": [
    "Operações database-style em dataframes"
   ]
  },
  {
   "cell_type": "markdown",
   "metadata": {},
   "source": [
    "Operações em dataframe"
   ]
  },
  {
   "cell_type": "markdown",
   "metadata": {},
   "source": [
    "Agregações com pandas e numpy"
   ]
  },
  {
   "cell_type": "markdown",
   "metadata": {},
   "source": [
    "> Visualização de dados com pandas e matplotlib"
   ]
  },
  {
   "cell_type": "markdown",
   "metadata": {},
   "source": [
    "> Plotando com seaborn"
   ]
  },
  {
   "cell_type": "markdown",
   "metadata": {},
   "source": [
    "> Onde conseguir dados "
   ]
  },
  {
   "cell_type": "markdown",
   "metadata": {},
   "source": [
    "Microdados ENEM - http://portal.inep.gov.br/microdados"
   ]
  },
  {
   "cell_type": "markdown",
   "metadata": {},
   "source": [
    "Portal Brasileiro de Dados Abertos - http://dados.gov.br/"
   ]
  },
  {
   "cell_type": "markdown",
   "metadata": {},
   "source": [
    "Datahub - http://datahub.io/"
   ]
  },
  {
   "cell_type": "markdown",
   "metadata": {},
   "source": [
    "NASA - http://data.nasa.gov/"
   ]
  },
  {
   "cell_type": "markdown",
   "metadata": {},
   "source": [
    "The World Bank - http://data.worldbank.org/"
   ]
  },
  {
   "cell_type": "markdown",
   "metadata": {},
   "source": [
    "United States Government - http://www.data.gov/"
   ]
  },
  {
   "cell_type": "markdown",
   "metadata": {},
   "source": [
    "Informações sobre a cidade do Rio de Janeiro - https://www.data.rio/"
   ]
  },
  {
   "cell_type": "markdown",
   "metadata": {},
   "source": [
    "Dados abertos do estado de São Paulo - https://www.governoaberto.sp.gov.br/"
   ]
  },
  {
   "cell_type": "markdown",
   "metadata": {},
   "source": [
    "Dados abertos de Brasília - http://www.dados.df.gov.br/"
   ]
  },
  {
   "cell_type": "code",
   "execution_count": null,
   "metadata": {},
   "outputs": [],
   "source": []
  }
 ],
 "metadata": {
  "kernelspec": {
   "display_name": "Python 3",
   "language": "python",
   "name": "python3"
  },
  "language_info": {
   "codemirror_mode": {
    "name": "ipython",
    "version": 3
   },
   "file_extension": ".py",
   "mimetype": "text/x-python",
   "name": "python",
   "nbconvert_exporter": "python",
   "pygments_lexer": "ipython3",
   "version": "3.8.5"
  }
 },
 "nbformat": 4,
 "nbformat_minor": 4
}
